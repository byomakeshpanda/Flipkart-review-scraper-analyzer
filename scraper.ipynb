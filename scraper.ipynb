{
 "cells": [
  {
   "cell_type": "code",
   "execution_count": 1,
   "id": "c08b3c37",
   "metadata": {},
   "outputs": [],
   "source": [
    "import pandas as pd\n",
    "import requests\n",
    "from bs4 import BeautifulSoup"
   ]
  },
  {
   "cell_type": "code",
   "execution_count": 2,
   "id": "a340cfa0",
   "metadata": {
    "scrolled": true
   },
   "outputs": [
    {
     "name": "stdout",
     "output_type": "stream",
     "text": [
      "Enter the product URL\n",
      "https://www.flipkart.com/samsung-crystal-4k-neo-series-108-cm-43-inch-ultra-hd-4k-led-smart-tizen-tv-voice-search/p/itma076c4dd16aa4?pid=TVSGEAGP9GXWCHCX&fm=neo%2Fmerchandising&ppt=dynamic&ppn=dynamic&ssid=gg6rurvu800000001689592474429\n"
     ]
    }
   ],
   "source": [
    "productURL = input(\"Enter the product URL\\n\")"
   ]
  },
  {
   "cell_type": "code",
   "execution_count": 3,
   "id": "98a63606",
   "metadata": {},
   "outputs": [
    {
     "name": "stdout",
     "output_type": "stream",
     "text": [
      "200\n"
     ]
    }
   ],
   "source": [
    "main_product = requests.get(productURL)\n",
    "print(main_product.status_code)\n",
    "if (main_product.status_code)==200:\n",
    "    soup = BeautifulSoup(main_product.text, 'html.parser')"
   ]
  },
  {
   "cell_type": "code",
   "execution_count": 4,
   "id": "05f64638",
   "metadata": {},
   "outputs": [],
   "source": [
    "# Getting the partial link for the 1st review page\n",
    "main_div = soup.find('div', class_='JOpGWq')\n",
    "links = main_div.find_all('a', recursive=False)\n",
    "link_urls = [link['href'] for link in links]\n",
    "partial_link=link_urls[-1]"
   ]
  },
  {
   "cell_type": "code",
   "execution_count": 5,
   "id": "7eac16e7",
   "metadata": {
    "scrolled": true
   },
   "outputs": [
    {
     "data": {
      "text/plain": [
       "'https://www.flipkart.com/samsung-crystal-4k-neo-series-108-cm-43-inch-ultra-hd-4k-led-smart-tizen-tv-voice-search/product-reviews/itma076c4dd16aa4?pid=TVSGEAGP9GXWCHCX&lid=LSTTVSGEAGP9GXWCHCXLNHH4M&marketplace=FLIPKART'"
      ]
     },
     "execution_count": 5,
     "metadata": {},
     "output_type": "execute_result"
    }
   ],
   "source": [
    "review_link = 'https://www.flipkart.com'+partial_link\n",
    "review_link"
   ]
  },
  {
   "cell_type": "code",
   "execution_count": 6,
   "id": "34f59a78",
   "metadata": {},
   "outputs": [
    {
     "name": "stdout",
     "output_type": "stream",
     "text": [
      "Page 1 of 154\n"
     ]
    }
   ],
   "source": [
    "review_page = requests.get(review_link)\n",
    "# print(review_page.status_code)\n",
    "if review_page.status_code==200:\n",
    "    soup = BeautifulSoup(review_page.content, 'html.parser')\n",
    "    div = soup.find('div', class_='_2MImiq _1Qnn1K')\n",
    "    span = div.find('span')\n",
    "    if span:\n",
    "        span_text = span.text\n",
    "        print(span_text)"
   ]
  },
  {
   "cell_type": "code",
   "execution_count": 7,
   "id": "15f38bdf",
   "metadata": {},
   "outputs": [
    {
     "data": {
      "text/plain": [
       "154"
      ]
     },
     "execution_count": 7,
     "metadata": {},
     "output_type": "execute_result"
    }
   ],
   "source": [
    "number_of_pages = int(span_text.split()[-1])\n",
    "number_of_pages"
   ]
  },
  {
   "cell_type": "code",
   "execution_count": 8,
   "id": "793e6335",
   "metadata": {},
   "outputs": [
    {
     "name": "stdout",
     "output_type": "stream",
     "text": [
      "/samsung-crystal-4k-neo-series-108-cm-43-inch-ultra-hd-4k-led-smart-tizen-tv-voice-search/product-reviews/itma076c4dd16aa4?pid=TVSGEAGP9GXWCHCX&lid=LSTTVSGEAGP9GXWCHCXLNHH4M&marketplace=FLIPKART&page=1\n"
     ]
    }
   ],
   "source": [
    "nav = div.find('nav', class_='yFHi8N')\n",
    "link = nav.find('a')\n",
    "if link:\n",
    "    href = link.get('href')\n",
    "    print(href) # Partial link of the 1st review page and general one"
   ]
  },
  {
   "cell_type": "code",
   "execution_count": 9,
   "id": "d5bf4731",
   "metadata": {},
   "outputs": [
    {
     "data": {
      "text/plain": [
       "'https://www.flipkart.com/samsung-crystal-4k-neo-series-108-cm-43-inch-ultra-hd-4k-led-smart-tizen-tv-voice-search/product-reviews/itma076c4dd16aa4?pid=TVSGEAGP9GXWCHCX&lid=LSTTVSGEAGP9GXWCHCXLNHH4M&marketplace=FLIPKART&page=1'"
      ]
     },
     "execution_count": 9,
     "metadata": {},
     "output_type": "execute_result"
    }
   ],
   "source": [
    "review_page_1_gen_link = 'https://www.flipkart.com'+href\n",
    "review_page_1_gen_link"
   ]
  },
  {
   "cell_type": "markdown",
   "id": "50763bb5",
   "metadata": {},
   "source": [
    "### We need to get number of stars,headline,entire review,date"
   ]
  },
  {
   "cell_type": "code",
   "execution_count": 10,
   "id": "098ec46d",
   "metadata": {},
   "outputs": [],
   "source": [
    "url = review_page_1_gen_link"
   ]
  },
  {
   "cell_type": "code",
   "execution_count": 11,
   "id": "180e02e8",
   "metadata": {},
   "outputs": [],
   "source": [
    "# !pip install selenium"
   ]
  },
  {
   "cell_type": "code",
   "execution_count": 12,
   "id": "c32d9ec4",
   "metadata": {},
   "outputs": [],
   "source": [
    "from selenium import webdriver\n",
    "from selenium.webdriver.common.by import By\n",
    "from selenium.webdriver.common.action_chains import ActionChains\n",
    "from selenium.webdriver.common.keys import Keys\n",
    "from selenium.webdriver.support.ui import WebDriverWait\n",
    "from selenium.webdriver.support import expected_conditions as EC"
   ]
  },
  {
   "cell_type": "code",
   "execution_count": 13,
   "id": "839dfbcf",
   "metadata": {},
   "outputs": [],
   "source": [
    "# driver = webdriver.Chrome() \n",
    "# driver.get(url)\n",
    "# # div = driver.find_elements(By.CSS_SELECTOR, 'div._27M-vq._2hwual')\n",
    "# # for i in div:\n",
    "# #     i.click()\n",
    "# elements = driver.find_elements(By.CSS_SELECTOR, 'div._27M-vq._2hwual')  \n",
    "# for element in elements:\n",
    "#     try:\n",
    "#         WebDriverWait(driver, 10).until(EC.element_to_be_clickable((By.CSS_SELECTOR, 'div._27M-vq._2hwual')))\n",
    "#         element.click()\n",
    "#     except Exception as e:\n",
    "#         print(f\"Failed to click on element: {e}\")"
   ]
  },
  {
   "cell_type": "code",
   "execution_count": 14,
   "id": "93500cd6",
   "metadata": {},
   "outputs": [],
   "source": [
    "# span = driver.find_elements(By.CSS_SELECTOR, 'span._1BWGvX')\n",
    "# for i in span:\n",
    "#     actions = ActionChains(driver)\n",
    "#     actions.move_to_element(i)\n",
    "#     actions.perform()\n",
    "#     i.click()"
   ]
  },
  {
   "cell_type": "code",
   "execution_count": 15,
   "id": "1c1c058a",
   "metadata": {},
   "outputs": [],
   "source": [
    "# #Get rating\n",
    "# div = driver.find_elements(By.CSS_SELECTOR, 'div._3LWZlK._1BLPMq')\n",
    "# ratings = []\n",
    "# for i in div:\n",
    "#     ratings.append(i.text)\n",
    "# print(ratings)"
   ]
  },
  {
   "cell_type": "code",
   "execution_count": 16,
   "id": "a5d41c93",
   "metadata": {
    "scrolled": true
   },
   "outputs": [],
   "source": [
    "# #For title\n",
    "# paragraph = driver.find_elements(By.CSS_SELECTOR, 'p._2-N8zT')\n",
    "# titles = []\n",
    "# for i in paragraph:\n",
    "#     titles.append(i.text)\n",
    "# print(titles)"
   ]
  },
  {
   "cell_type": "code",
   "execution_count": 17,
   "id": "893fb67d",
   "metadata": {},
   "outputs": [],
   "source": [
    "# len(titles)"
   ]
  },
  {
   "cell_type": "code",
   "execution_count": 18,
   "id": "1db06d84",
   "metadata": {},
   "outputs": [],
   "source": [
    "# #For main review\n",
    "# div = driver.find_elements(By.CSS_SELECTOR, 'div.t-ZTKy')\n",
    "# main_reviews=[]\n",
    "# for i in div:\n",
    "#     review = i.text\n",
    "#     main_reviews.append(review.replace('\\n', ' ').strip())\n",
    "# print(main_reviews)"
   ]
  },
  {
   "cell_type": "code",
   "execution_count": 19,
   "id": "d9bbb2a4",
   "metadata": {
    "scrolled": false
   },
   "outputs": [],
   "source": [
    "# driver.quit()"
   ]
  },
  {
   "cell_type": "code",
   "execution_count": 20,
   "id": "83268f20",
   "metadata": {},
   "outputs": [
    {
     "data": {
      "text/plain": [
       "'samsung_crystal'"
      ]
     },
     "execution_count": 20,
     "metadata": {},
     "output_type": "execute_result"
    }
   ],
   "source": [
    "file_name = soup.title.text[:15].lower().replace(' ','_')\n",
    "file_name"
   ]
  },
  {
   "cell_type": "code",
   "execution_count": 21,
   "id": "828ec45c",
   "metadata": {},
   "outputs": [],
   "source": [
    "import pandas as pd"
   ]
  },
  {
   "cell_type": "code",
   "execution_count": 22,
   "id": "6fb853f8",
   "metadata": {},
   "outputs": [],
   "source": [
    "from tqdm import tqdm"
   ]
  },
  {
   "cell_type": "code",
   "execution_count": 26,
   "id": "79626d44",
   "metadata": {
    "scrolled": true
   },
   "outputs": [
    {
     "name": "stderr",
     "output_type": "stream",
     "text": [
      " 30%|████████████████████████▌                                                         | 15/50 [00:48<01:53,  3.24s/it]\n"
     ]
    }
   ],
   "source": [
    "#Getting the data frame for 10 pages of reviews\n",
    "reviews_df = pd.DataFrame()\n",
    "driver = webdriver.Chrome() \n",
    "for i in tqdm(range(1,min(50,number_of_pages)+1)):\n",
    "    url = review_page_1_gen_link[:-1]+str(i)\n",
    "\n",
    "    driver.get(url)\n",
    "    elements = driver.find_elements(By.CSS_SELECTOR, 'div._27M-vq._2hwual')  \n",
    "    for element in elements:\n",
    "        try:\n",
    "            WebDriverWait(driver, 15,poll_frequency=1).until(EC.element_to_be_clickable((By.CSS_SELECTOR, 'div._27M-vq._2hwual')))\n",
    "            element.click()\n",
    "        except Exception as e:\n",
    "            print(f\"Failed to click on element: {e}\")\n",
    "    #Clicking on all the read more\n",
    "    span = driver.find_elements(By.CSS_SELECTOR, 'span._1BWGvX')\n",
    "    for i in span:\n",
    "        actions = ActionChains(driver)\n",
    "        actions.move_to_element(i)\n",
    "        actions.perform()\n",
    "        i.click()\n",
    "    #Get rating\n",
    "    div = driver.find_elements(By.CSS_SELECTOR, 'div._3LWZlK._1BLPMq')\n",
    "    ratings = []\n",
    "    for i in div:\n",
    "        ratings.append(i.text)\n",
    "    #The data is unavailable only dummy page is present.\n",
    "    if(len(ratings)==0):\n",
    "        break\n",
    "    #For title\n",
    "    paragraph = driver.find_elements(By.CSS_SELECTOR, 'p._2-N8zT')\n",
    "    titles = []\n",
    "    for i in paragraph:\n",
    "        titles.append(i.text)\n",
    "    #For main review\n",
    "    div = driver.find_elements(By.CSS_SELECTOR, 'div.t-ZTKy')\n",
    "    main_reviews=[]\n",
    "    for i in div:\n",
    "        review = i.text\n",
    "        main_reviews.append(review.replace('\\n', ' ').strip())\n",
    "    reviews_dict = {'ratings':ratings,'titles':titles,'reviews':main_reviews}\n",
    "    temp_df = pd.DataFrame(reviews_dict)\n",
    "    reviews_df = reviews_df.append(temp_df,ignore_index=True)\n",
    "driver.quit()"
   ]
  },
  {
   "cell_type": "code",
   "execution_count": 27,
   "id": "eccb6653",
   "metadata": {},
   "outputs": [],
   "source": [
    "reviews_df.to_csv(f'data_files\\{file_name}_reviews.csv',index=False)"
   ]
  },
  {
   "cell_type": "code",
   "execution_count": null,
   "id": "b8117839",
   "metadata": {},
   "outputs": [],
   "source": []
  },
  {
   "cell_type": "code",
   "execution_count": null,
   "id": "48f2db4c",
   "metadata": {},
   "outputs": [],
   "source": []
  },
  {
   "cell_type": "code",
   "execution_count": null,
   "id": "b06fd551",
   "metadata": {},
   "outputs": [],
   "source": []
  },
  {
   "cell_type": "code",
   "execution_count": null,
   "id": "9beac31d",
   "metadata": {},
   "outputs": [],
   "source": []
  }
 ],
 "metadata": {
  "kernelspec": {
   "display_name": "Python 3 (ipykernel)",
   "language": "python",
   "name": "python3"
  },
  "language_info": {
   "codemirror_mode": {
    "name": "ipython",
    "version": 3
   },
   "file_extension": ".py",
   "mimetype": "text/x-python",
   "name": "python",
   "nbconvert_exporter": "python",
   "pygments_lexer": "ipython3",
   "version": "3.10.0"
  }
 },
 "nbformat": 4,
 "nbformat_minor": 5
}
